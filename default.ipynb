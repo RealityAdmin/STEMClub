{
 "cells": [
  {
   "cell_type": "markdown",
   "metadata": {},
   "source": [
    "## README\n",
    "\n",
    "Notes on how to install Python3, OpenCV and dlib in ROS Development Studio, under Ubuntu 18.04\n",
    "\n",
    "### From: Omar Silva osilva@robogeekcanada.com\n",
    "\n"
   ]
  },
  {
   "cell_type": "markdown",
   "metadata": {},
   "source": [
    "## Step by Step\n",
    "\n",
    "1. Kill roscore processes only if it's running. Enter in one of the Shell terminals:\n",
    "\n",
    "> killall -9 roscore\n",
    "> killall -9 rosmaster\n",
    "\n",
    "2. Install Python 3:\n",
    "\n",
    "> sudo apt-get update\n",
    "> sudo apt-get -y upgrade\n",
    "\n",
    "The -y flag will confirm that we are agreeing for all items to be installed, but depending on your version of Linux, you may need to confirm additional prompts as your system updates and upgrades.\n",
    "\n",
    "3. Check install works\n",
    "\n",
    "> python3 -V\n",
    "\n",
    "4. Install pip\n",
    "\n",
    "> sudo apt-get install -y python3-pip\n",
    "\n",
    "5. Install dependencies\n",
    "\n",
    "> pip3 install opencv-python\n",
    "\n",
    "DLIB installation:\n",
    "\n",
    "Follow the tutorial...\n",
    "https://ourcodeworld.com/articles/read/841/how-to-install-and-use-the-python-face-recognition-and-detection-library-in-ubuntu-16-04\n",
    "\n",
    "**Important use:\n",
    "\n",
    "> sudo python3 setup.py install\n",
    "\n",
    "Complete tutorial:\n",
    "https://www.pyimagesearch.com/2017/04/03/facial-landmarks-dlib-opencv-python/\n",
    "\n",
    "Get predictor file:\n",
    "\n",
    "> https://github.com/AKSHAYUBHAT/TensorFace/blob/master/openface/models/dlib/shape_predictor_68_face_landmarks.dat?raw=true\n",
    "\n",
    "> Rename the file, remove ?raw=true\n",
    "\n",
    "Test face_landmark.py:\n",
    "\n",
    "> python3 facial_landmarks.py --shape-predictor shape_predictor_68_face_landmarks.dat --image OSZ.jpg\n"
   ]
  },
  {
   "cell_type": "code",
   "execution_count": null,
   "metadata": {},
   "outputs": [],
   "source": []
  }
 ],
 "metadata": {
  "kernelspec": {
   "display_name": "Python 2",
   "language": "python",
   "name": "python2"
  },
  "language_info": {
   "codemirror_mode": {
    "name": "ipython",
    "version": 2
   },
   "file_extension": ".py",
   "mimetype": "text/x-python",
   "name": "python",
   "nbconvert_exporter": "python",
   "pygments_lexer": "ipython2",
   "version": "2.7.16"
  }
 },
 "nbformat": 4,
 "nbformat_minor": 1
}
